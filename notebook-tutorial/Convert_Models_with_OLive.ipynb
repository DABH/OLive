{
 "cells": [
  {
   "cell_type": "markdown",
   "metadata": {},
   "source": [
    "# Convert Models with OLive Python Package"
   ]
  },
  {
   "cell_type": "markdown",
   "metadata": {},
   "source": [
    "This notebook demos how to use OLive python package to convert a model from another model framework to ONNX, including correctness verification."
   ]
  },
  {
   "cell_type": "markdown",
   "metadata": {},
   "source": [
    "## 0. Prerequisites"
   ]
  },
  {
   "cell_type": "markdown",
   "metadata": {},
   "source": [
    "1. Download OLive python package [here](https://olivewheels.blob.core.windows.net/repo/onnxruntime_olive-0.2.0-py3-none-any.whl)\n",
    "\n",
    "\n",
    "2. Install OLive with `pip install onnxruntime_olive-0.2.0-py3-none-any.whl`\n",
    "\n",
    "\n",
    "3. Download example model and sample test data\n",
    "\n",
    "\n",
    "4. Call `olive setup --model_framework <your_model_original_framework>` to install required libraries for model conversion"
   ]
  },
  {
   "cell_type": "code",
   "execution_count": null,
   "metadata": {},
   "outputs": [],
   "source": [
    "import urllib.request\n",
    "import os\n",
    "\n",
    "conversion_example = 'conversion_example'\n",
    "if not os.path.isdir(conversion_example):\n",
    "    os.mkdir(conversion_example)\n",
    "\n",
    "model_url = \"https://olivemodels.blob.core.windows.net/models/conversion/full_doran_frozen.pb\"\n",
    "model_response = urllib.request.urlretrieve(model_url, conversion_example + \"/full_doran_frozen.pb\")\n",
    "\n",
    "test_data_url = \"https://olivemodels.blob.core.windows.net/models/conversion/doran.npz\"\n",
    "test_data_response = urllib.request.urlretrieve(test_data_url, conversion_example + \"/doran.npz\")"
   ]
  },
  {
   "cell_type": "markdown",
   "metadata": {},
   "source": [
    "## 1. Convert Model To ONNX"
   ]
  },
  {
   "cell_type": "markdown",
   "metadata": {},
   "source": [
    "Configurations for OLive Model Conversion includes:\n",
    "\n",
    "| Configuration  | Detail  | Example |\n",
    "|:--|:--|:--|\n",
    "| **model_path** | model path for conversion | \"test.pb\" |\n",
    "|**model_root_path**| model path for conversion, only for PyTorch model | \"D:\\model\\src\" |\n",
    "|**inputs_schema**| input’s names, types, and shapes | [{'name':'title_lengths:0'},{'name':'title_encoder:0'},{'name':'ratings:0'}] |\n",
    "|**outputs_schema**| output’s names, types, and shapes | [{'name':'output_identity:0'},{'name':'loss_identity:0'}] |\n",
    "|**onnx_opset**| target opset version for conversion | 11 |\n",
    "|**onnx_model_path**| ONNX model path as conversion output | \"test.onnx\" |\n",
    "|**sample_input_data_path**| path to sample_input_data.npz | \"sample_input_data.npz\" |\n",
    "|**model_framework**| model original framework | \"tensorflow\" |"
   ]
  },
  {
   "cell_type": "code",
   "execution_count": null,
   "metadata": {},
   "outputs": [],
   "source": [
    "from olive.conversion_config import ConversionConfig\n",
    "from olive.convert import convert"
   ]
  },
  {
   "cell_type": "code",
   "execution_count": null,
   "metadata": {},
   "outputs": [],
   "source": [
    "model_path = os.path.join(conversion_example, \"full_doran_frozen.pb\")\n",
    "inputs_schema = [{\"name\": \"title_lengths:0\"}, {\"name\": \"title_encoder:0\"}, {\"name\": \"ratings:0\"}, {\"name\": \"query_lengths:0\"},\n",
    "                 {\"name\": \"passage_lengths:0\"}, {\"name\": \"features:0\"}, {\"name\": \"encoder:0\"}, {\"name\": \"decoder:0\"}, {\"name\": \"Placeholder:0\"}]\n",
    "outputs_schema = [{\"name\": \"output_identity:0\"}, {\"name\": \"loss_identity:0\"}]\n",
    "\n",
    "cvt_config = ConversionConfig(\n",
    "    model_path=model_path, \n",
    "    inputs_schema=inputs_schema, \n",
    "    outputs_schema=outputs_schema,\n",
    "    model_framework=\"tensorflow\",\n",
    "    onnx_opset=11,\n",
    "    sample_input_data_path=os.path.join(conversion_example,\"doran.npz\")\n",
    ")\n",
    "\n",
    "convert(cvt_config)"
   ]
  },
  {
   "cell_type": "code",
   "execution_count": null,
   "metadata": {},
   "outputs": [],
   "source": []
  }
 ],
 "metadata": {
  "interpreter": {
   "hash": "9a5dcffd1f681f7d477d1d70f92079f370ae67071dda428793bf72fce572af8a"
  },
  "kernelspec": {
   "display_name": "Python 3",
   "language": "python",
   "name": "python3"
  },
  "language_info": {
   "codemirror_mode": {
    "name": "ipython",
    "version": 3
   },
   "file_extension": ".py",
   "mimetype": "text/x-python",
   "name": "python",
   "nbconvert_exporter": "python",
   "pygments_lexer": "ipython3",
   "version": "3.7.8"
  }
 },
 "nbformat": 4,
 "nbformat_minor": 4
}
